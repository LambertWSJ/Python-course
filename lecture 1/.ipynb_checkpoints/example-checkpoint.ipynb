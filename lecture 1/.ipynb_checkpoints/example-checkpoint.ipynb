{
 "cells": [
  {
   "cell_type": "markdown",
   "metadata": {},
   "source": [
    "基本程式語言該有的特性\n",
    "輸入輸出\n",
    "變數\n",
    "判斷式\n",
    "內建資料結構\n",
    "函數\n",
    "類別\n",
    "開檔、讀檔\n",
    "在Python中語法如下"
   ]
  },
  {
   "cell_type": "markdown",
   "metadata": {},
   "source": [
    "## 基本語法"
   ]
  },
  {
   "cell_type": "markdown",
   "metadata": {},
   "source": [
    "## 載入模組"
   ]
  },
  {
   "cell_type": "code",
   "execution_count": null,
   "metadata": {
    "pycharm": {
     "is_executing": false,
     "name": "#%%\n"
    }
   },
   "outputs": [],
   "source": [
    "import math\n",
    "import numpy as np"
   ]
  },
  {
   "cell_type": "markdown",
   "metadata": {},
   "source": [
    "### 註解\n",
    "單行註解\n",
    "`#`:\n",
    "\n",
    "多行註解\n",
    "\n",
    "`\n",
    "'''\n",
    "comment\n",
    "'''\n",
    "`"
   ]
  },
  {
   "cell_type": "markdown",
   "metadata": {},
   "source": [
    "### 變數\n",
    "Python對於變數沒有嚴格型態必須要是int, float...，可以隨意指定變數，python會自動轉換成對應的型態"
   ]
  },
  {
   "cell_type": "code",
   "execution_count": null,
   "metadata": {
    "pycharm": {
     "is_executing": false,
     "name": "#%%\n"
    }
   },
   "outputs": [],
   "source": [
    "int_num = 100\n",
    "float_num = 8.7\n",
    "name = 'Lambert'\n",
    "is_good = True\n",
    "is_bad = False\n",
    "print(int_num, float_num, name, is_good, is_bad)\n",
    "print(\"==============================================\")\n",
    "\n",
    "\n",
    "# 轉換成特定型態\n",
    "int_num = float(int_num)\n",
    "float_num = int(float_num)\n",
    "is_good = int(is_good)\n",
    "is_bad = int(is_bad)\n",
    "print(int_num, float_num, name, is_good, is_bad)\n",
    "print(\"==============================================\")\n",
    "\n",
    "'''\n",
    "錯誤示範\n",
    "name = int(name)\n",
    "'''\n",
    "\n",
    "# 全部都可以轉成字串\n",
    "print(str(int_num))\n",
    "print(\"==============================================\")\n",
    "# boolean 除了0之外都回傳True\n",
    "print(bool(-1), bool(30),bool('hello'), bool(1.0))\n",
    "print(bool(0))\n",
    "\n"
   ]
  },
  {
   "cell_type": "code",
   "execution_count": null,
   "metadata": {
    "pycharm": {
     "is_executing": false,
     "name": "#%%\n"
    }
   },
   "outputs": [],
   "source": [
    "'''\n",
    "另一種變數assign的方法\n",
    "'''\n",
    "first, last, fullname = 'Lambert', 'Wu', \"Lambert Wu\"\n",
    "score, dept = 100, 'EE'\n",
    "print(first, last, fullname)\n",
    "print(score, dept)\n"
   ]
  },
  {
   "cell_type": "markdown",
   "metadata": {},
   "source": [
    "### 判斷式\n",
    "if..else if ... else\n",
    "其實沒什麼太大特別的，大部分的語言判斷式都一樣\n",
    "\n",
    "不一樣的就只有三元表達式(Ternary operators)\n",
    "\n",
    "*回傳True的結果* if *判斷式* else *回傳False的結果*"
   ]
  },
  {
   "cell_type": "code",
   "execution_count": null,
   "metadata": {
    "pycharm": {
     "is_executing": false,
     "name": "#%%\n"
    }
   },
   "outputs": [],
   "source": [
    "# 判斷式\n",
    "a ,b, c = input('a = '), input('b = '), input('c = ')\n",
    "print('a = {0}\\tb = {1}\\tc = {2}'.format(a, b, c))\n",
    "\n",
    "if a > b:\n",
    "    print('a is grater than b')\n",
    "elif c > b:\n",
    "    print('c is grater than b')\n",
    "else:\n",
    "    print('b is grater than a')\n",
    "\n",
    "# 三元表達式\n",
    "'''\n",
    "上述的例子轉成簡單一點3元表達式\n",
    "'''\n",
    "\n",
    "msg = 'a is grater than b' if a > b else 'b is grater than a'\n",
    "print(\"三元表達式\", msg)\n",
    "\n",
    "\n",
    "# 不建議這樣寫\n",
    "# print('a is grater than b') if a > b else print('b is grater than a')\n"
   ]
  },
  {
   "cell_type": "markdown",
   "metadata": {},
   "source": [
    "## 迴圈\n",
    "* for\n",
    "* while"
   ]
  },
  {
   "cell_type": "code",
   "execution_count": null,
   "metadata": {
    "pycharm": {
     "is_executing": false,
     "name": "#%%\n"
    }
   },
   "outputs": [],
   "source": [
    "# for loop\n",
    "\n",
    "for i in range(30):\n",
    "    if i % 2 == 0 and i % 3 == 0:\n",
    "        print('{} 可以被2跟3整除, i**2 = {}'.format(i, i ** 2))\n",
    "        \n",
    "# range(start, end, step)        \n",
    "for i in range(0, 30, 5):\n",
    "    print(i, end='\\t')\n",
    "    \n",
    "print('\\n===================================')\n",
    "\n",
    "# 疊帶一個iterable的物件\n",
    "for alpha in name:\n",
    "    print(alpha, end=' ')"
   ]
  },
  {
   "cell_type": "code",
   "execution_count": null,
   "metadata": {
    "pycharm": {
     "is_executing": false,
     "name": "#%%\n"
    }
   },
   "outputs": [],
   "source": [
    "# while loop\n",
    "i = 0\n",
    "while i in range(80):\n",
    "    if i > 70:\n",
    "        break\n",
    "    elif i < 20:\n",
    "        i += 1\n",
    "        continue\n",
    "    elif i % 2 == 0 and i % 3 == 0:\n",
    "        print('{} 可以被2跟3整除, i**2 = {}'.format(i, i ** 2))\n",
    "    i += 1\n",
    "    \n",
    "    \n",
    "i = 0        \n",
    "print('\\n===================================')\n",
    "# range(start, end, step)        \n",
    "while i in range(0, 30, 5):\n",
    "    print(i, end='\\t')\n",
    "    i += 1\n",
    "    \n",
    "print('\\n===================================\\n')\n",
    "\n",
    "# 當你不確定執行次數就很適合while迴圈\n",
    "count, num = 0, np.random.randint(0, 80)\n",
    "\n",
    "while num <= 75:\n",
    "    num = np.random.randint(0, 80)\n",
    "    count += 1\n",
    "print('num: {1}, count: {0}'.format(count, num))"
   ]
  },
  {
   "cell_type": "markdown",
   "metadata": {},
   "source": [
    "## 內建資料結構\n",
    "* 元組(tuple): 不可修改值，read only的資料結構\n",
    "* 列表(list):  可以修改值的資料結構\n",
    "* 字典(dict):  key-value pair的資料結構\n",
    "* 集合(set):   如同機率裡面講的集合"
   ]
  },
  {
   "cell_type": "code",
   "execution_count": null,
   "metadata": {
    "pycharm": {
     "is_executing": false,
     "name": "#%%\n"
    }
   },
   "outputs": [],
   "source": [
    "odds = (1, 3, 5, 7, 9, 11)\n",
    "evens = [2, 4, 6, 8, 10, 12]\n",
    "info = {\n",
    "    'title': 'nums',\n",
    "    'odd': odds,\n",
    "    'even': evens\n",
    "}\n",
    "\n",
    "a = {'a','b','c'}\n",
    "b = {'c', 'd', 'e'}\n",
    "\n",
    "\n",
    "print(odds)\n",
    "print(evens)\n",
    "print('============================================')\n",
    "print(info)\n",
    "print(info['odd'])\n",
    "print(info['even'])\n",
    "print('============================================')\n",
    "print(a, b)"
   ]
  },
  {
   "cell_type": "markdown",
   "metadata": {},
   "source": [
    "### 遍歷尋訪 Traversal\n",
    "尋訪每個元素"
   ]
  },
  {
   "cell_type": "code",
   "execution_count": null,
   "metadata": {
    "pycharm": {
     "is_executing": false,
     "name": "#%%\n"
    }
   },
   "outputs": [],
   "source": [
    "for odd in odds:\n",
    "    print(odd, end='\\t')\n",
    "print(\"\\n===================================\")\n",
    "\n",
    "# 查看多個list\n",
    "for odd, even in zip(odds, evens):\n",
    "    print(odd, even)\n",
    "    \n",
    "# 補充    \n",
    "print(\"===================================\")\n",
    "students = ['John', 'Cindy', 'Louis', 'Peter', 'Alex']\n",
    "for i, student in enumerate(students):\n",
    "    print(i, student)\n",
    "    "
   ]
  },
  {
   "cell_type": "markdown",
   "metadata": {},
   "source": [
    "### tuple操作 - tuple manipulation\n",
    "通常很少用到...."
   ]
  },
  {
   "cell_type": "code",
   "execution_count": null,
   "metadata": {
    "pycharm": {
     "is_executing": false,
     "name": "#%%\n"
    }
   },
   "outputs": [],
   "source": [
    "# 轉換\n",
    "nums = tuple(nums)\n",
    "print(nums)\n",
    "\n",
    "# 錯誤示範，設定變數在tuple上\n",
    "nums[3] = 9527\n",
    "print(nums[3])"
   ]
  },
  {
   "cell_type": "markdown",
   "metadata": {},
   "source": [
    "### List manipulation"
   ]
  },
  {
   "cell_type": "markdown",
   "metadata": {},
   "source": [
    "#### 建立"
   ]
  },
  {
   "cell_type": "code",
   "execution_count": null,
   "metadata": {
    "pycharm": {
     "is_executing": false,
     "name": "#%%\n"
    }
   },
   "outputs": [],
   "source": [
    "# 建立\n",
    "ex1 = list(range(10))\n",
    "ex2 = list(range(5, 20, 3))\n",
    "ex3 = [1, 2, 3] * 5\n",
    "ex4 = ['P', 'y', True, False]\n",
    "nums = [-1, 5, -3, 2, 8, 6, 9, 9, 10, 25, 13]\n",
    "\n",
    "print(ex1)\n",
    "print(ex2)\n",
    "print(ex3)\n",
    "print(ex4)\n",
    "print(nums)"
   ]
  },
  {
   "cell_type": "markdown",
   "metadata": {},
   "source": [
    "#### 切割(slice)"
   ]
  },
  {
   "cell_type": "code",
   "execution_count": null,
   "metadata": {
    "pycharm": {
     "is_executing": false,
     "name": "#%%\n"
    }
   },
   "outputs": [],
   "source": [
    "\n",
    "# 長度\n",
    "n = len(nums)\n",
    "print(\"nums: {}\\n長度: {}\".format(nums, n))\n",
    "print(\"=====================================\")\n",
    "\n",
    "print(\"切割(slice)\")\n",
    "print(\"取頭取尾:\", nums[0], nums[-1], nums[n-1])\n",
    "print(\"全部:\",nums[:])\n",
    "print(\"取得一部分:\", nums[3:5])\n",
    "print(\"從1到全部間隔為2:\", nums[1: n: 2])\n",
    "print(\"從2到8，間隔為2:\", nums[2:9:2])\n",
    "\n",
    "print(\"=====================================\")\n",
    "print(\"反過來從尾巴slice\")\n",
    "print(\"反轉:\", nums[::-1])\n",
    "print(\"倒數3個:\", nums[-3:])\n",
    "print(\"倒數7個到3個\", nums[-7:-3])\n",
    "print(\"反過來取值，間隔為2:\", nums[-1::-2])\n",
    "print(\"\")\n"
   ]
  },
  {
   "cell_type": "markdown",
   "metadata": {},
   "source": [
    "#### 新增跟刪除"
   ]
  },
  {
   "cell_type": "code",
   "execution_count": null,
   "metadata": {
    "pycharm": {
     "is_executing": false,
     "name": "#%%\n"
    }
   },
   "outputs": [],
   "source": [
    "# append\n",
    "nums = [-1, 5, -3, 2, 8, 6, 9, 9, 10, 25, 13]\n",
    "nums += [100, 200, 300]\n",
    "print(nums)\n",
    "nums.append([10, 20])\n",
    "print(nums)\n",
    "nums.extend([5,6,7,8,9,10])\n",
    "print(nums)\n",
    "print(\"========================================\")\n",
    "\n",
    "\n",
    "# remove head\n",
    "nums.pop(0)\n",
    "print(nums)\n",
    "\n",
    "# remove tail\n",
    "nums.pop()\n",
    "print(nums)\n",
    "\n",
    "# remove n-th element\n",
    "nums.pop(5)\n",
    "print(nums)\n",
    "\n",
    "# remove last n element\n",
    "nums = nums[:len(nums) - 6]\n",
    "print(nums)\n",
    "\n",
    "# 移除中間一部分的元素\n",
    "del nums[5:9]\n",
    "print(nums)\n",
    "\n",
    "\n",
    "# 清除\n",
    "nums.clear()\n",
    "print(nums)\n",
    "\n"
   ]
  },
  {
   "cell_type": "markdown",
   "metadata": {},
   "source": [
    "### 字典操作 - dict manipulation\n",
    "key-value pair\n",
    "一個鍵對應(map)一個值，鍵是唯一的，value則可以重複，存取速度快，可讀性也高"
   ]
  },
  {
   "cell_type": "markdown",
   "metadata": {},
   "source": [
    "#### 建立"
   ]
  },
  {
   "cell_type": "code",
   "execution_count": null,
   "metadata": {
    "pycharm": {
     "is_executing": false,
     "name": "#%%\n"
    }
   },
   "outputs": [],
   "source": [
    "# 手動\n",
    "product = {\n",
    "    'name': '戰斧牛排',\n",
    "    \"eng_name\": \"Tomahawk\",\n",
    "    'price': 4500,\n",
    "    'discount': 0.95,\n",
    "}\n",
    "print(product['name'])\n",
    "print(product['eng_name'])\n",
    "print(product['price'])\n",
    "print(product['discount'])\n",
    "print('打折後:', int(product['price'] * product['discount']),'元')\n",
    "\n",
    "\n",
    "# 用zip\n",
    "keys = ['name', 'eng_name', 'price', 'discount']\n",
    "vals = ['戰斧牛排', 'Tomahawk', 4500, 0.9]\n",
    "product = dict(zip(keys, vals))\n",
    "print(product)\n",
    "\n",
    "# 用list or tuple\n",
    "key_val = [('name','戰斧牛排'), ('eng_name','Tomahawk'), ('price', 4500), ('discount', 0.9)]\n",
    "key_val = [['name','戰斧牛排'], ['eng_name','Tomahawk'], ['price', 4500], ['discount', 0.9]]\n",
    "product = dict(key_val)\n",
    "print(product)"
   ]
  },
  {
   "cell_type": "markdown",
   "metadata": {},
   "source": [
    "#### 查看"
   ]
  },
  {
   "cell_type": "code",
   "execution_count": null,
   "metadata": {
    "pycharm": {
     "is_executing": false,
     "name": "#%%\n"
    }
   },
   "outputs": [],
   "source": [
    "print(product.keys())\n",
    "print(product.values())\n",
    "print(product.items())\n"
   ]
  },
  {
   "cell_type": "markdown",
   "metadata": {},
   "source": [
    "#### 新增與刪除"
   ]
  },
  {
   "cell_type": "code",
   "execution_count": null,
   "metadata": {
    "pycharm": {
     "is_executing": false,
     "name": "#%%\n"
    }
   },
   "outputs": [],
   "source": [
    "ingr = 'ingredient' # 配料\n",
    "# 新增\n",
    "product[ingr] = [\"松露\",\"和牛\",\"蘿蔔\",\"蘆筍\"]\n",
    "print(product[ingr])\n",
    "\n",
    "\n",
    "# 新增多個 key-value\n",
    "print(\"====\"*10)\n",
    "other = {'have_discount': True, 'category': 'Main'}\n",
    "product.update(other)\n",
    "print(product.items())\n",
    "\n",
    "print(\"====\"*10)\n",
    "\n",
    "# 刪除\n",
    "del product[ingr]\n",
    "\n",
    "# 測試\n",
    "have_ingr = ingr in product\n",
    "\n",
    "if have_ingr: \n",
    "    print(product[ingr])\n",
    "else:\n",
    "    print(ingr,'not in product\\'s key')\n",
    "    "
   ]
  },
  {
   "cell_type": "markdown",
   "metadata": {},
   "source": [
    "如果key一樣會如何?"
   ]
  },
  {
   "cell_type": "code",
   "execution_count": null,
   "metadata": {
    "pycharm": {
     "is_executing": false,
     "name": "#%%\n"
    }
   },
   "outputs": [],
   "source": [
    "origin = {'a': 1, 'b': 2}\n",
    "other = {'a': 50, 'c': -6}\n",
    "origin.update(other)\n",
    "print(origin)"
   ]
  },
  {
   "cell_type": "markdown",
   "metadata": {},
   "source": [
    "#### 清空"
   ]
  },
  {
   "cell_type": "code",
   "execution_count": null,
   "metadata": {
    "pycharm": {
     "is_executing": false,
     "name": "#%%\n"
    }
   },
   "outputs": [],
   "source": [
    "product.clear()\n",
    "origin.clear()\n",
    "print(product, origin)"
   ]
  },
  {
   "cell_type": "markdown",
   "metadata": {},
   "source": [
    "### 集合"
   ]
  },
  {
   "cell_type": "markdown",
   "metadata": {},
   "source": [
    "建立"
   ]
  },
  {
   "cell_type": "code",
   "execution_count": null,
   "metadata": {
    "pycharm": {
     "is_executing": false,
     "name": "#%%\n"
    }
   },
   "outputs": [],
   "source": [
    "# 手動\n",
    "their_friend = {'John', 'Cindy', 'Louis', 'Peter', 'Alex'}\n",
    "my_friend = {'Andrew', 'Cathy', 'Peter', 'Frank', 'Louis'}\n",
    "\n",
    "# create from tuple or list\n",
    "set_a = set(odds)\n",
    "set_b = set(['P','Y','T','H'])\n",
    "print(set_a,set_b)\n",
    "\n",
    "# 其他範例\n",
    "nums = set([90,5,4,3,3,7,7,-8,1])\n",
    "print(nums)\n"
   ]
  },
  {
   "cell_type": "markdown",
   "metadata": {},
   "source": [
    "操作\n",
    "* 聯集\n",
    "* 交集"
   ]
  },
  {
   "cell_type": "code",
   "execution_count": null,
   "metadata": {
    "pycharm": {
     "is_executing": false,
     "name": "#%%\n"
    }
   },
   "outputs": [],
   "source": [
    "print('他的朋友',their_friend)\n",
    "print('我的朋友',my_friend)\n",
    "print('我們全部的朋友', my_friend | their_friend)\n",
    "print('我們共同的朋友', my_friend & their_friend)\n",
    "print('我們不同的朋友',my_friend ^ their_friend)\n",
    "\n",
    "your_friend = set()\n",
    "if your_friend is not None:\n",
    "    print('你沒有朋友')\n"
   ]
  },
  {
   "cell_type": "markdown",
   "metadata": {},
   "source": [
    "## 函數\n",
    "\n",
    "\n",
    "基本語法如下\n",
    "```=\n",
    "def 函數名稱(參數):\n",
    "    執行動作\n",
    "```"
   ]
  },
  {
   "cell_type": "code",
   "execution_count": null,
   "metadata": {
    "pycharm": {
     "is_executing": false,
     "name": "#%%\n"
    }
   },
   "outputs": [],
   "source": [
    "import numpy as np\n",
    "'''\n",
    "Quick overview\n",
    "'''\n",
    "\n",
    "def demo():\n",
    "    print(\"this is function\")\n",
    "    \n",
    "def say_hi(people):\n",
    "    print(people, \"Hi\")\n",
    "    \n",
    "def func(params) -> None:\n",
    "    print(\"Your params is \",params)\n",
    "\n",
    "\n",
    "\n",
    "def statistics(nums):\n",
    "    n = len(nums)\n",
    "    nums = np.array(nums)\n",
    "    \n",
    "    return nums.mean(), nums.std(), nums.sum()\n",
    "\n",
    "mean, std, total = statistics([5,8,9,10,20]) \n",
    "\n",
    "print(mean)\n",
    "print(std)\n",
    "print(total)\n",
    "print('=================')\n",
    "demo()\n",
    "say_hi(\"Daniel\")\n",
    "func(evens)"
   ]
  },
  {
   "cell_type": "markdown",
   "metadata": {},
   "source": [
    "#### args & kwargs"
   ]
  },
  {
   "cell_type": "code",
   "execution_count": null,
   "metadata": {
    "pycharm": {
     "is_executing": false,
     "name": "#%%\n"
    }
   },
   "outputs": [],
   "source": [
    "def print_args(*args):\n",
    "    print('arguments: ',args)\n",
    "    print(args[0])\n",
    "    \n",
    "    \n",
    "def print_kwargs(**kwargs):\n",
    "    print('keyword arguments', kwargs)\n",
    "    print('total price:', kwargs['price']*kwargs['discount'] if 'price' in kwargs.keys() else '')\n",
    "\n",
    "\n",
    "params = [8, 5, 6, 3, 9, 10]\n",
    "print_args(params)\n",
    "print_args(*params)\n",
    "print('='*60)\n",
    "print_kwargs(a='apple', b='banana', f='fruit')\n",
    "print_kwargs(**product)"
   ]
  },
  {
   "cell_type": "markdown",
   "metadata": {},
   "source": [
    "### Lambda 表達示\n",
    "\n",
    "可以將函數寫成簡潔的一行"
   ]
  },
  {
   "cell_type": "code",
   "execution_count": null,
   "metadata": {
    "pycharm": {
     "is_executing": false,
     "name": "#%%\n"
    }
   },
   "outputs": [],
   "source": [
    "add = lambda a,b: a + b\n",
    "sub = lambda a,b: a - b\n",
    "mul = lambda a,b: a * b\n",
    "div = lambda a,b: a / b\n",
    "\n",
    "print(add(5, 2))\n",
    "\n",
    "def operate(a, b, *funcs):\n",
    "    res = []\n",
    "    for func in funcs:\n",
    "        val = func(a, b)\n",
    "        res.append(val)\n",
    "    return res\n",
    "\n",
    "result = operate(100, 20, *[add, sub, mul, div])\n",
    "print(result)\n",
    "\n",
    "\n",
    "add_more = lambda *args: sum(args)\n",
    "print(add_more(*[1,4,3,2,5]))"
   ]
  },
  {
   "cell_type": "markdown",
   "metadata": {},
   "source": [
    "### 遞迴Recursion\n",
    "自己呼叫自己，每次呼叫都會把問題分解，直到不能分解在合併答案"
   ]
  },
  {
   "cell_type": "code",
   "execution_count": null,
   "metadata": {
    "pycharm": {
     "is_executing": false,
     "name": "#%%\n"
    }
   },
   "outputs": [],
   "source": [
    "def fib(n):\n",
    "    if n <= 0:\n",
    "        return 0\n",
    "    elif n == 1 or n == 0:\n",
    "        return 1\n",
    "    else:\n",
    "        return fib(n-1) + fib(n - 2)\n",
    " \n",
    "print(fib(9))\n",
    "\n",
    "def arr_sum(arr, n):\n",
    "    if n == 0:\n",
    "        return 0\n",
    "    else:\n",
    "        return arr[n-1] + arr_sum(arr, n - 1)\n",
    "\n",
    "print(evens)    \n",
    "print(\"Answer is \", sum(evens))\n",
    "print(\"recursion result\",arr_sum(evens, len(evens)))\n",
    "\n"
   ]
  },
  {
   "cell_type": "markdown",
   "metadata": {},
   "source": [
    "# 其他範例\n"
   ]
  },
  {
   "cell_type": "markdown",
   "metadata": {},
   "source": [
    "## 判斷式\n",
    "\n",
    "將三元表達式變得稍微有點難度\n",
    "### 巢狀三元表達式"
   ]
  },
  {
   "cell_type": "code",
   "execution_count": null,
   "metadata": {
    "pycharm": {
     "is_executing": false,
     "name": "#%%\n"
    }
   },
   "outputs": [],
   "source": [
    "'''\n",
    "字母統計\n",
    "'''\n",
    "counts = {\"A\": 0, \"B\": 0, \"other\": 0}\n",
    "alphas = \"AABCBADBAEFBA\"\n",
    "\n",
    "for alpha in alphas:\n",
    "    print(\"alpha is \", alpha)\n",
    "    if alpha == 'A':\n",
    "        counts[alpha] += 1\n",
    "    elif alpha == 'B':\n",
    "        counts[alpha] += 1\n",
    "    else:\n",
    "        counts['other'] += 1\n",
    "print(counts)"
   ]
  },
  {
   "cell_type": "code",
   "execution_count": null,
   "metadata": {
    "pycharm": {
     "is_executing": false,
     "name": "#%%\n"
    }
   },
   "outputs": [],
   "source": [
    "'''\n",
    "改成三元表達式\n",
    "'''\n",
    "counts = {\"A\": 0, \"B\": 0, \"other\": 0}\n",
    "for alpha in alphas:\n",
    "    key = 'A' if alpha == 'A' else 'B' if alpha == 'B' else 'other'\n",
    "    print(\"key is \", key)\n",
    "    counts[key] += 1\n",
    "print(counts)"
   ]
  }
 ],
 "metadata": {
  "kernelspec": {
   "display_name": "Python 3",
   "language": "python",
   "name": "python3"
  },
  "language_info": {
   "codemirror_mode": {
    "name": "ipython",
    "version": 3
   },
   "file_extension": ".py",
   "mimetype": "text/x-python",
   "name": "python",
   "nbconvert_exporter": "python",
   "pygments_lexer": "ipython3",
   "version": "3.7.6"
  },
  "pycharm": {
   "stem_cell": {
    "cell_type": "raw",
    "metadata": {
     "collapsed": false
    },
    "source": []
   }
  }
 },
 "nbformat": 4,
 "nbformat_minor": 1
}
