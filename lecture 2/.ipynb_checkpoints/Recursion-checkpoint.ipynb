{
 "cells": [
  {
   "cell_type": "markdown",
   "metadata": {},
   "source": [
    "# 遞迴"
   ]
  },
  {
   "cell_type": "markdown",
   "metadata": {},
   "source": [
    "遞迴是一種程式設計的技巧，將問題分解成相似的子問題來解決，可以簡化程式碼，提升可讀性，不過在剛接觸的時候會覺得很困難，因為不符合直覺"
   ]
  },
  {
   "cell_type": "markdown",
   "metadata": {},
   "source": [
    "## 如何思考遞迴"
   ]
  },
  {
   "cell_type": "markdown",
   "metadata": {},
   "source": [
    "1. 一步一步拆開來分析(大部分書本講解的方法)\n",
    "2. 用更抽象的角度來思考\n",
    "3. 使用[歸納法](https://zh.wikipedia.org/wiki/%E6%95%B0%E5%AD%A6%E5%BD%92%E7%BA%B3%E6%B3%95)"
   ]
  },
  {
   "cell_type": "markdown",
   "metadata": {},
   "source": [
    "### 練習方式\n",
    "\n",
    "1. 去leetcode看別人的作法，看多寫多會比較有感覺\n",
    "2. 練習把自己寫的code從迭帶改成遞迴又或著把遞迴改成迭帶"
   ]
  },
  {
   "cell_type": "markdown",
   "metadata": {},
   "source": [
    "### 遞迴的優缺點\n",
    "\n",
    "---\n",
    "\n",
    "#### 優點\n",
    "\n",
    "* 程式碼簡潔\n",
    "* 可讀性更高\n",
    "\n",
    "#### 缺點\n",
    "\n",
    "* 通常比較慢\n",
    "* 有stack overflow的問題\n",
    "\n",
    "PS: 缺點的部分需要看編譯器有沒有支持[尾端遞迴最佳化](https://zh.wikipedia.org/wiki/%E5%B0%BE%E8%B0%83%E7%94%A8)\n",
    "可惜Python沒有"
   ]
  },
  {
   "cell_type": "markdown",
   "metadata": {},
   "source": [
    "寫遞迴一定要給結束條件，否則就等著stack overflow"
   ]
  },
  {
   "cell_type": "markdown",
   "metadata": {},
   "source": [
    "## 範例"
   ]
  },
  {
   "cell_type": "markdown",
   "metadata": {},
   "source": [
    "### 小例子"
   ]
  },
  {
   "cell_type": "code",
   "execution_count": null,
   "metadata": {},
   "outputs": [],
   "source": [
    "# 0加到n\n",
    "\n",
    "def add(n):\n",
    "    if n == 0:\n",
    "        return 0\n",
    "    else:\n",
    "        return n + add(n - 1)\n",
    "\n",
    "\n",
    "    \n",
    "nums = list(range(10))\n",
    "\n",
    "def arr_sum(arr, n):\n",
    "    '''\n",
    "    陣列加總\n",
    "    @arr: array(tuple、list)\n",
    "    @n: length of list\n",
    "    '''\n",
    "    if n <= 0:\n",
    "        return 0\n",
    "    else:\n",
    "        return arr[n - 1] + arr_sum(arr, n - 1)\n",
    "\n",
    "print(nums)\n",
    "print(arr_sum(nums, len(nums)))\n",
    "print(add(100))\n",
    "# help(arr_sum)"
   ]
  },
  {
   "cell_type": "markdown",
   "metadata": {},
   "source": [
    "$f(x) = 3x + 1$\n",
    "\n",
    "x = 5\n",
    "\n",
    "如果包個3次很簡單\n",
    "\n",
    "\n",
    "$f(f(f(x))) = f(f(f(5))) = f(f(16)) = f(49) = 148$\n",
    "\n",
    "但如果包個1000次?"
   ]
  },
  {
   "cell_type": "code",
   "execution_count": null,
   "metadata": {},
   "outputs": [],
   "source": [
    "def func(x):\n",
    "    return 3 * x + 1\n",
    "\n",
    "\n",
    "def rec_func(func, x, n):\n",
    "    if n <= 1:\n",
    "        return func(x)\n",
    "    else:\n",
    "        return rec_func(func, func(x), n - 1)\n",
    "\n",
    "# rec_func = lambda func, x, n: func(x) if n <= 1 else rec_func(func, func(x), n - 1)\n",
    "\n",
    "\n",
    "print(rec_func(func, 5, 3))"
   ]
  },
  {
   "cell_type": "markdown",
   "metadata": {},
   "source": [
    "### 反轉list"
   ]
  },
  {
   "cell_type": "code",
   "execution_count": null,
   "metadata": {
    "pycharm": {
     "is_executing": false
    }
   },
   "outputs": [],
   "source": [
    "def itr_reverse(arr):\n",
    "    n = len(arr)\n",
    "    for i in range(int(n / 2)):\n",
    "        # 交換\n",
    "        arr[i], arr[n - 1 - i] = arr[n - 1 - i], arr[i]\n",
    "    return arr\n",
    "\n",
    "\n",
    "\n",
    "def rec_reverse(arr, i, n):\n",
    "    if i > len(arr) / 2:\n",
    "        return arr\n",
    "    arr[i], arr[n - 1 - i] = arr[n - 1 - i], arr[i]\n",
    "    return rec_reverse(arr, i + 1, n)\n",
    "\n",
    "\n",
    "nums = list(range(10))\n",
    "n = len(nums)\n",
    "\n",
    "print(nums)\n",
    "res1 = rec_reverse(nums.copy(), 0, n)\n",
    "print(res1)\n",
    "res2 = itr_reverse(nums.copy())\n",
    "print(res2)"
   ]
  },
  {
   "cell_type": "markdown",
   "metadata": {},
   "source": [
    "### 二元樹走訪\n",
    "\n",
    "二元樹本身為一個遞迴的結構，所以大部分對於二元樹的操作用遞迴來寫會比用迭帶還好寫。"
   ]
  },
  {
   "attachments": {},
   "cell_type": "markdown",
   "metadata": {},
   "source": [
    "![](https://i.imgur.com/v5uKs3K.png)"
   ]
  },
  {
   "cell_type": "code",
   "execution_count": null,
   "metadata": {},
   "outputs": [],
   "source": [
    "class TreeNode:\n",
    "    def __init__(self, val):\n",
    "        self.left = None\n",
    "        self.right = None\n",
    "        self.val = val\n",
    "\n",
    "# 把樹建立起來\n",
    "root = TreeNode(1)\n",
    "root.left = TreeNode(2)\n",
    "root.right = TreeNode(3)\n",
    "\n",
    "root.left.left = TreeNode(4)\n",
    "root.left.right = TreeNode(5)\n",
    "\n",
    "root.right.left = TreeNode(6)\n",
    "root.right.right = TreeNode(7)\n"
   ]
  },
  {
   "attachments": {},
   "cell_type": "markdown",
   "metadata": {},
   "source": [
    "![](https://i.imgur.com/VgDWMey.png)"
   ]
  },
  {
   "cell_type": "markdown",
   "metadata": {},
   "source": [
    "上圖由左至右分別是 **前序(VLR)**、**中序(LVR)**、**後序(LRV)** 走訪\n",
    "\n",
    "前中後的分辨方法則是看V的位置"
   ]
  },
  {
   "cell_type": "code",
   "execution_count": null,
   "metadata": {},
   "outputs": [],
   "source": [
    "# 中序\n",
    "\n",
    "# 遞迴版\n",
    "def in_order(tree):\n",
    "    if tree:\n",
    "        in_order(tree.left)\n",
    "        print(tree.val, end='\\t')\n",
    "        in_order(tree.right)\n",
    "\n",
    "# 迭帶版\n",
    "def itr_in_order(root: TreeNode):\n",
    "\n",
    "    stack = []\n",
    "    cur_node = root\n",
    "\n",
    "    while cur_node is not None or len(stack) != 0:\n",
    "\n",
    "        while cur_node is not None:\n",
    "            stack.append(cur_node)\n",
    "            cur_node = cur_node.left\n",
    "\n",
    "        cur_node = stack.pop()\n",
    "        print(cur_node.val, end='\\t')\n",
    "        cur_node = cur_node.right\n",
    "\n",
    "        \n",
    "print(\"Recursion in order: \")\n",
    "in_order(root)\n",
    "print(\"\\n\",\"==================\" * 3)\n",
    "print(\"iterator in order: \")\n",
    "itr_in_order(root)"
   ]
  },
  {
   "cell_type": "code",
   "execution_count": null,
   "metadata": {},
   "outputs": [],
   "source": [
    "# 各種前中後序的遞迴\n",
    "# 前序\n",
    "def pre_order(tree):\n",
    "    if tree:\n",
    "        print(tree.val, end='\\t')\n",
    "        pre_order(tree.left)\n",
    "        pre_order(tree.right)\n",
    "\n",
    "# 中序\n",
    "def in_order(tree):\n",
    "    if tree:\n",
    "        in_order(tree.left)\n",
    "        print(tree.val, end='\\t')\n",
    "        in_order(tree.right)\n",
    "\n",
    "# 後序\n",
    "def post_order(tree):\n",
    "    if tree:\n",
    "        in_order(tree.left)\n",
    "        in_order(tree.right)\n",
    "        print(tree.val, end='\\t')\n",
    "\n",
    "print(\"pre order: \",end='')\n",
    "pre_order(root)\n",
    "print(\"\\n\",\"==================\" * 3,\"\\n\")\n",
    "print(\"in order: \",end='')\n",
    "in_order(root)\n",
    "print(\"\\n\",\"==================\" * 3,\"\\n\")\n",
    "print(\"post order: \",end='')\n",
    "post_order(root)"
   ]
  }
 ],
 "metadata": {
  "kernelspec": {
   "display_name": "Python 3",
   "language": "python",
   "name": "python3"
  },
  "language_info": {
   "codemirror_mode": {
    "name": "ipython",
    "version": 3
   },
   "file_extension": ".py",
   "mimetype": "text/x-python",
   "name": "python",
   "nbconvert_exporter": "python",
   "pygments_lexer": "ipython3",
   "version": "3.7.4"
  },
  "pycharm": {
   "stem_cell": {
    "cell_type": "raw",
    "metadata": {
     "collapsed": false
    },
    "source": []
   }
  }
 },
 "nbformat": 4,
 "nbformat_minor": 1
}
