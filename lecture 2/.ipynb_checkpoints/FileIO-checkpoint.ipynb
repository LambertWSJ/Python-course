{
 "cells": [
  {
   "cell_type": "markdown",
   "metadata": {
    "collapsed": true
   },
   "source": [
    "# 檔案讀寫\n"
   ]
  },
  {
   "cell_type": "markdown",
   "metadata": {},
   "source": [
    "[Python檔案讀寫](https://www.runoob.com/python/python-files-io.html)"
   ]
  },
  {
   "cell_type": "markdown",
   "metadata": {},
   "source": [
    "## 讀\n"
   ]
  },
  {
   "cell_type": "code",
   "execution_count": null,
   "metadata": {},
   "outputs": [],
   "source": [
    "file = open('data.txt', 'r')\n",
    "print('read line')\n",
    "test = file.readline()\n",
    "print(test)\n",
    "# 記得把檔案串流關掉\n",
    "file.close()"
   ]
  },
  {
   "cell_type": "markdown",
   "metadata": {},
   "source": [
    "### 自動關閉檔案"
   ]
  },
  {
   "cell_type": "code",
   "execution_count": null,
   "metadata": {},
   "outputs": [],
   "source": [
    "# 可讀但不可寫\n",
    "with open('data.txt', 'r') as reader:\n",
    "    msg = reader.read()\n",
    "    print(msg)"
   ]
  },
  {
   "cell_type": "code",
   "execution_count": null,
   "metadata": {},
   "outputs": [],
   "source": [
    "# r+ 可讀可寫\n",
    "with open('output.txt', 'r+') as file:\n",
    "    file.write(\"5555555555\\n\"*30)"
   ]
  },
  {
   "cell_type": "code",
   "execution_count": null,
   "metadata": {},
   "outputs": [],
   "source": [
    "# 可讀可寫但不可以創建\n",
    "with open('data2.txt', 'r+') as reader:\n",
    "    msg = reader.read()\n",
    "    print(msg)\n",
    "    reader.wirte(\"This is append by python\")"
   ]
  },
  {
   "cell_type": "markdown",
   "metadata": {},
   "source": [
    "## 寫"
   ]
  },
  {
   "cell_type": "code",
   "execution_count": null,
   "metadata": {},
   "outputs": [],
   "source": [
    "with open('write_output.txt', 'w+') as file:\n",
    "    file.write(\"This is created by python\")\n",
    "    \n"
   ]
  },
  {
   "cell_type": "code",
   "execution_count": null,
   "metadata": {},
   "outputs": [],
   "source": [
    "print(ord('A'), chr(ord('A')))\n",
    "print(ord('Z'), chr(ord('Z')))\n",
    "\n",
    "# 如果沒有檔案就會建立檔案\n",
    "with open('write.txt', 'w') as file:\n",
    "    idx_a = ord('A')\n",
    "    idx_z = ord('Z')\n",
    "    for i in range(idx_a, idx_z + 1):\n",
    "        file.write(chr(i) * 5)\n",
    "        file.write(\"\\n\")"
   ]
  },
  {
   "cell_type": "markdown",
   "metadata": {},
   "source": [
    "### 寫入內容附加在檔案後面"
   ]
  },
  {
   "cell_type": "code",
   "execution_count": null,
   "metadata": {},
   "outputs": [],
   "source": [
    "\n",
    "with open('write.txt', 'a') as file:\n",
    "    file.write(\"============================================\\n\")\n",
    "    idx_a = ord('A')\n",
    "    idx_z = ord('Z')\n",
    "    reverse_idx = list(range(idx_a, idx_z + 1))\n",
    "    print(reverse_idx)\n",
    "    reverse_idx = reverse_idx[::-1]\n",
    "#     reverse_idx = reverse_idx.reverse()\n",
    "    for i in reverse_idx:\n",
    "        file.write(chr(i) * 5)\n",
    "        file.write(\"\\n\")"
   ]
  }
 ],
 "metadata": {
  "kernelspec": {
   "display_name": "Python 3",
   "language": "python",
   "name": "python3"
  },
  "language_info": {
   "codemirror_mode": {
    "name": "ipython",
    "version": 3
   },
   "file_extension": ".py",
   "mimetype": "text/x-python",
   "name": "python",
   "nbconvert_exporter": "python",
   "pygments_lexer": "ipython3",
   "version": "3.7.4"
  }
 },
 "nbformat": 4,
 "nbformat_minor": 1
}
