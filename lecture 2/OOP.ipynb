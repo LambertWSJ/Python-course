{
 "cells": [
  {
   "cell_type": "markdown",
   "metadata": {
    "collapsed": true
   },
   "source": [
    "# 物件導向(OOP)"
   ]
  },
  {
   "cell_type": "markdown",
   "metadata": {},
   "source": [
    "PS: 要活用請靠寫專案或是看書來加強，這需要靠經驗累積，寫遊戲或是creative coding是個不錯的選擇"
   ]
  },
  {
   "cell_type": "markdown",
   "metadata": {},
   "source": [
    "## 動機"
   ]
  },
  {
   "cell_type": "markdown",
   "metadata": {},
   "source": [
    "    在還沒出現物件導向之前，只有函數跟各種資料(int、float、string、...)，而且沒有良好的管理，導致程式碼一團糟，維護成本大大增加不少，但是利用物件導向可以好好的管理分散的資料跟函數，製作成可重複使用的模組，提升程式碼可讀性，進而降低維護跟研發的成本。"
   ]
  },
  {
   "cell_type": "markdown",
   "metadata": {},
   "source": [
    "### 物件導向的特性"
   ]
  },
  {
   "cell_type": "markdown",
   "metadata": {},
   "source": [
    "* 封裝: 將不必要或是重要的資料或函數隱藏起來不讓外界存取\n",
    "* 繼承: 利用父類別的\"部分\"屬性跟函數來擴充子類別\n",
    "* 多型: 為物件建立相同的動作，其物件對同一動作會做出不同的回應​(wiki)"
   ]
  },
  {
   "cell_type": "markdown",
   "metadata": {},
   "source": [
    "### Python中的OOP"
   ]
  },
  {
   "cell_type": "code",
   "execution_count": null,
   "metadata": {},
   "outputs": [],
   "source": [
    "import numpy as np\n",
    "\n",
    "\n",
    "class Vector():\n",
    "\n",
    "    def __init__(self, x, y):\n",
    "        self.x = x\n",
    "        self.y = y\n",
    "        # __變成private 屬性\n",
    "        self.__label = \"Vector\"\n",
    "\n",
    "    @property\n",
    "    def label(self):\n",
    "        return self.__label\n",
    "\n",
    "    @label.setter\n",
    "    def label(self, label):\n",
    "        self.__label = label\n",
    "\n",
    "    @property\n",
    "    def length(self):\n",
    "        return np.sqrt(self.x**2 + self.y ** 2)\n",
    "\n",
    "    @property\n",
    "    def angle(self):\n",
    "        return np.arctan2(self.y, self.x) * (180 / np.pi)\n",
    "\n",
    "    def add(self, v):\n",
    "        return Vector(self.x + v.x, self.y + v.y)\n",
    "\n",
    "    def sub(self, v):\n",
    "        return Vector(self.x - v.x, self.y - v.y)\n",
    "\n",
    "    def mul(self, v):\n",
    "        return Vector(self.x * v.x, self.y * v.y)\n",
    "\n",
    "    def div(self, v):\n",
    "        return Vector(self.x / v.x, self.y / v.y)\n",
    "\n",
    "    def move(self, v):\n",
    "        self.x += v.x\n",
    "        self.y += v.y\n",
    "\n",
    "    def __add__(self, v):\n",
    "\n",
    "        return self.add(v)\n",
    "\n",
    "    def __sub__(self, v):\n",
    "        return self.sub(v)\n",
    "\n",
    "    def __mul__(self, v):\n",
    "        return self.mul(v)\n",
    "\n",
    "    def __truediv__(self, v):\n",
    "        return self.div(v)\n",
    "\n",
    "    # +=\n",
    "    def __iadd__(self, v):\n",
    "        self.x += v.x\n",
    "        self.y += v.y\n",
    "        return self\n",
    "    # -=\n",
    "    def __isub__(self, v):\n",
    "        self.x -= v.x\n",
    "        self.y -= v.y\n",
    "        return self\n",
    "\n",
    "    # *=\n",
    "    def __imul__(self, v):\n",
    "        self.x *= v.x\n",
    "        self.y *= v.y\n",
    "        return self\n",
    "\n",
    "    # /=\n",
    "    def __itruediv__(self, v):\n",
    "        self.x /= v.x\n",
    "        self.y /= v.y\n",
    "        return self\n",
    "    '''\n",
    "    輸出文字用\n",
    "    '''\n",
    "\n",
    "    def __repr__(self):\n",
    "        return \"({}, {})\".format(self.x, self.y)\n",
    "\n",
    "    def __str__(self):\n",
    "        return \"All properties: (x: {}, y: {}, angle: {}, length: {})\".format(self.x, self.y, self.angle, self.length)\n",
    "\n",
    "\n"
   ]
  },
  {
   "cell_type": "markdown",
   "metadata": {},
   "source": [
    "### 實體化\n",
    "前面定義完我們的藍圖之後接著建立起來把類別變成物件"
   ]
  },
  {
   "cell_type": "code",
   "execution_count": null,
   "metadata": {},
   "outputs": [],
   "source": [
    "v1 = Vector(3, 4)\n",
    "v2 = Vector(6, 8)\n",
    "vects = [Vector(3, 5) for i in range(10)]\n",
    "print(v1)\n",
    "print(v2)"
   ]
  },
  {
   "cell_type": "markdown",
   "metadata": {},
   "source": [
    "### 使用函數"
   ]
  },
  {
   "cell_type": "code",
   "execution_count": null,
   "metadata": {},
   "outputs": [],
   "source": [
    "print(v1.add(v2))\n",
    "print(v1.sub(v2))\n",
    "print(v1.mul(v2))\n",
    "print(v1.div(v2))\n",
    "print('-'*50)\n",
    "print(v1 + v2)\n",
    "print(v1 - v2)\n",
    "print(v1 * v2)\n",
    "print(v1 / v2)"
   ]
  },
  {
   "cell_type": "markdown",
   "metadata": {},
   "source": [
    "### 存取屬性"
   ]
  },
  {
   "cell_type": "code",
   "execution_count": null,
   "metadata": {},
   "outputs": [],
   "source": [
    "v1.angle, v2.length"
   ]
  },
  {
   "cell_type": "code",
   "execution_count": null,
   "metadata": {},
   "outputs": [],
   "source": [
    "v1.label = \"Demo\"\n",
    "print(v1.label)"
   ]
  },
  {
   "cell_type": "code",
   "execution_count": null,
   "metadata": {},
   "outputs": [],
   "source": [
    "# 錯誤示範，存取封裝起來的私有屬性\n",
    "v1.__label"
   ]
  },
  {
   "cell_type": "markdown",
   "metadata": {},
   "source": [
    "### 繼承"
   ]
  },
  {
   "cell_type": "code",
   "execution_count": null,
   "metadata": {},
   "outputs": [],
   "source": [
    "\n",
    "class Shape():\n",
    "    def __init__(self, x, y):\n",
    "        self.pos = Vector(x, y)\n",
    "\n",
    "    def move(self, x, y):\n",
    "        next_point = Vector(x, y)\n",
    "        self.pos.move(next_point)\n",
    "\n",
    "\n",
    "class Rectangle(Shape):\n",
    "    def __init__(self, x, y, width, height):\n",
    "        super().__init__(x, y)\n",
    "        self.width = width\n",
    "        self.height = height\n",
    "\n",
    "    def area(self):\n",
    "        return self.width * self.height\n",
    "\n",
    "    def summary(self):\n",
    "        base = self.pos\n",
    "        print(\"Rectangle\")\n",
    "        print(\"(x, y) => ({}, {})\".format(base.x, base.y))\n",
    "        print(\"Area => {}\".format(self.area()))\n",
    "\n",
    "\n",
    "class Triangle(Shape):\n",
    "    def __init__(self, x, y, base, height):\n",
    "        super().__init__(x, y)\n",
    "        self.base = base\n",
    "        self.height = height\n",
    "\n",
    "    def area(self):\n",
    "        return self.base * self.height\n",
    "\n",
    "    def summary(self):\n",
    "        base = self.pos\n",
    "        print(\"Triangle\")\n",
    "        print(\"(x, y) => ({}, {})\".format(base.x, base.y))\n",
    "        print(\"Area => {}\".format(self.area()))\n",
    "\n",
    "\n",
    "class Circle(Shape):\n",
    "    def __init__(self, x, y, r):\n",
    "        super().__init__(x, y)\n",
    "        self.r = r\n",
    "\n",
    "    def area(self):\n",
    "        return np.pi * self.r ** 2\n",
    "\n",
    "    def summary(self):\n",
    "        base = self.pos\n",
    "        print(\"Circle\")\n",
    "        print(\"(x, y) => ({}, {})\".format(base.x, base.y))\n",
    "        print(\"Area => {}\".format(self.area()))\n",
    "\n",
    "\n",
    "\n"
   ]
  },
  {
   "cell_type": "code",
   "execution_count": null,
   "metadata": {},
   "outputs": [],
   "source": [
    "circle = Circle(10, 10, 10)\n",
    "rect = Rectangle(10, 10, 30, 50)\n",
    "tri = Triangle(10, 10, 30, 50)\n",
    "\n",
    "for shape in [circle, rect, tri]:\n",
    "    print(\"=\"*100)\n",
    "    shape.summary()\n",
    "    "
   ]
  },
  {
   "attachments": {},
   "cell_type": "markdown",
   "metadata": {},
   "source": [
    "相關書籍可以搜尋軟體開發類的書 \n",
    "\n",
    "比如這些\n",
    "* 無瑕的程式碼系列(clean code series)\n",
    "* 重構(Refactor)\n",
    "* 設計模式(Design Pattern)\n",
    "* Code Complement"
   ]
  }
 ],
 "metadata": {
  "kernelspec": {
   "display_name": "Python 3",
   "language": "python",
   "name": "python3"
  },
  "language_info": {
   "codemirror_mode": {
    "name": "ipython",
    "version": 3
   },
   "file_extension": ".py",
   "mimetype": "text/x-python",
   "name": "python",
   "nbconvert_exporter": "python",
   "pygments_lexer": "ipython3",
   "version": "3.7.4"
  }
 },
 "nbformat": 4,
 "nbformat_minor": 1
}
